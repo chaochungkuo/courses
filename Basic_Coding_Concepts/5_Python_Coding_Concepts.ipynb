{
 "cells": [
  {
   "cell_type": "markdown",
   "metadata": {},
   "source": [
    "# Basic Coding Concepts in Python for Bioinformatics\n",
    "\n",
    "### Objective:\n",
    "\n",
    "Introduce Python as a programming language and familiarize learners with the Jupyter Notebook environment. By the end of this session, you will be able to write and run basic Python code in a Jupyter notebook.\n"
   ]
  },
  {
   "cell_type": "markdown",
   "metadata": {},
   "source": [
    "## 1.1 What is Python?\n",
    "Python is a versatile, high-level programming language known for its simplicity and readability. It is widely used in various fields, including bioinformatics, for tasks such as data analysis, automation, and scientific computing.\n",
    "\n",
    "### Why Python for Bioinformatics?\n",
    "- **Ease of Use**: Python's simple syntax makes it accessible to beginners.\n",
    "- **Extensive Libraries**: Python has numerous libraries (e.g., Biopython, Pandas) specifically designed for bioinformatics tasks.\n",
    "- **Community Support**: Python has a large community, ensuring ample resources and support for learners."
   ]
  },
  {
   "cell_type": "markdown",
   "metadata": {},
   "source": [
    "## 1.2 Introduction to Jupyter Notebooks\n",
    "Jupyter Notebook is an open-source web application that allows you to create and share documents containing live code, equations, visualizations, and narrative text. It is widely used in data science, education, and research.\n",
    "\n",
    "### How to Use Jupyter Notebooks:\n",
    "- **Code Cells**: Cells where you write and execute Python code.\n",
    "- **Markdown Cells**: Cells for writing formatted text, including headings, lists, and explanations.\n",
    "- **Running Cells**: You can run a cell by clicking on it and pressing `Shift + Enter`."
   ]
  },
  {
   "cell_type": "markdown",
   "metadata": {},
   "source": [
    "### Exercise 1: Running Your First Python Code\n",
    "In the code cell below, write a Python command to print the message \"Hello, Bioinformatics!\" and then run the cell."
   ]
  },
  {
   "cell_type": "code",
   "execution_count": null,
   "metadata": {},
   "outputs": [],
   "source": [
    "# Exercise 1: Print a message\n",
    "print(\"Hello, Bioinformatics!\")"
   ]
  }
 ],
 "metadata": {
  "language_info": {
   "name": "python"
  }
 },
 "nbformat": 4,
 "nbformat_minor": 2
}
